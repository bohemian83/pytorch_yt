{
 "cells": [
  {
   "cell_type": "code",
   "execution_count": 3,
   "metadata": {},
   "outputs": [
    {
     "data": {
      "text/plain": [
       "'2.5.1+cpu'"
      ]
     },
     "execution_count": 3,
     "metadata": {},
     "output_type": "execute_result"
    }
   ],
   "source": [
    "import torch\n",
    "from torch import nn \n",
    "import pandas as pd\n",
    "import numpy as np\n",
    "import matplotlib.pyplot as plt\n",
    "\n",
    "torch.__version__"
   ]
  },
  {
   "cell_type": "markdown",
   "metadata": {},
   "source": [
    "## Pytorch Workflow\n",
    "\n",
    "Let's explore a PyTorch end-to-end workflow.\n"
   ]
  },
  {
   "cell_type": "code",
   "execution_count": 2,
   "metadata": {},
   "outputs": [
    {
     "data": {
      "text/plain": [
       "{1: 'data (prepare and load)',\n",
       " 2: 'build model',\n",
       " 3: 'fitting the model to data (training)',\n",
       " 4: 'making predictions and evaluating a model (inference)',\n",
       " 5: 'saving and loading a model',\n",
       " 6: 'putting it all together'}"
      ]
     },
     "execution_count": 2,
     "metadata": {},
     "output_type": "execute_result"
    }
   ],
   "source": [
    "what_we_are_covering = { \n",
    "                        1: \"data (prepare and load)\",\n",
    "                        2: \"build model\",\n",
    "                        3: \"fitting the model to data (training)\",\n",
    "                        4: \"making predictions and evaluating a model (inference)\",\n",
    "                        5: \"saving and loading a model\",\n",
    "                        6: \"putting it all together\"\n",
    "}\n",
    "what_we_are_covering"
   ]
  },
  {
   "cell_type": "markdown",
   "metadata": {},
   "source": [
    "## 1. Data (preparing and loading)\n",
    "\n",
    "Data can be almost anything in machine learning.\n",
    "\n",
    "* Excel spreadsheets\n",
    "* Images of any kind\n",
    "* Videos\n",
    "* Audio\n",
    "* DNA\n",
    "* Text\n",
    "\n",
    "Machine learning is a game of two parts:\n",
    "1. Get data into a numerical representation\n",
    "2. Build a model to learn patterns in that numerical representation.\n",
    "\n",
    "To showcase this, let's create some *known* data using the linear regression formula to make a straight line with *known* **parameters**."
   ]
  },
  {
   "cell_type": "code",
   "execution_count": 79,
   "metadata": {},
   "outputs": [
    {
     "data": {
      "text/plain": [
       "(tensor([[0.0000],\n",
       "         [0.0050],\n",
       "         [0.0100],\n",
       "         [0.0150],\n",
       "         [0.0200],\n",
       "         [0.0250],\n",
       "         [0.0300],\n",
       "         [0.0350],\n",
       "         [0.0400],\n",
       "         [0.0450]]),\n",
       " tensor([[0.3000],\n",
       "         [0.3035],\n",
       "         [0.3070],\n",
       "         [0.3105],\n",
       "         [0.3140],\n",
       "         [0.3175],\n",
       "         [0.3210],\n",
       "         [0.3245],\n",
       "         [0.3280],\n",
       "         [0.3315]]),\n",
       " 200,\n",
       " 200)"
      ]
     },
     "execution_count": 79,
     "metadata": {},
     "output_type": "execute_result"
    }
   ],
   "source": [
    "# Create known parameters\n",
    "weight = 0.7\n",
    "bias = 0.3\n",
    "\n",
    "# Create data\n",
    "start = 0\n",
    "end = 1\n",
    "step = 0.005\n",
    "X = torch.arange(start, end, step).unsqueeze(dim=1)\n",
    "y = weight * X + bias\n",
    "\n",
    "X[:10], y[:10], len(X), len(y)"
   ]
  },
  {
   "cell_type": "markdown",
   "metadata": {},
   "source": [
    "### Spliting data into training and test sets (one of the most important concepts in machine learning in general)\n",
    "\n",
    "Let's create a training and test set with our data."
   ]
  },
  {
   "cell_type": "code",
   "execution_count": 80,
   "metadata": {},
   "outputs": [
    {
     "data": {
      "text/plain": [
       "(160, 160, 40, 40)"
      ]
     },
     "execution_count": 80,
     "metadata": {},
     "output_type": "execute_result"
    }
   ],
   "source": [
    "#Create a train and test split\n",
    "train_split = int(0.8 * len(X))\n",
    "X_train, y_train = X[:train_split], y[:train_split]\n",
    "X_test, y_test = X[train_split:], y[train_split:]\n",
    "\n",
    "len(X_train), len(y_train), len(X_test), len(y_test)"
   ]
  },
  {
   "cell_type": "code",
   "execution_count": 81,
   "metadata": {},
   "outputs": [],
   "source": [
    "#Let's visualize the data\n",
    "\n",
    "def plot_predictions(train_data=X_train,\n",
    "                     train_labels=y_train,\n",
    "                     test_data=X_test,\n",
    "                     test_labels=y_test,\n",
    "                     predictions=None):\n",
    "    \"\"\"\n",
    "    Plots training data, test data and compares predictions.\n",
    "    \"\"\"\n",
    "    plt.figure(figsize=(10,7))\n",
    "    \n",
    "    #Plot training data in blue\n",
    "    plt.scatter(train_data, train_labels, c=\"b\", s=4, label=\"Training data\")\n",
    "    \n",
    "    #Plot test data in green\n",
    "    plt.scatter(test_data, test_labels, c=\"g\", s=4, label=\"Testing data\")\n",
    "\n",
    "    #Are there prediction\n",
    "    if predictions is not None:\n",
    "        plt.scatter(test_data, predictions, c=\"r\", s=4, label=\"Predictions\")\n",
    "        \n",
    "    #Show the legend\n",
    "    plt.legend(prop={\"size\": 14})"
   ]
  },
  {
   "cell_type": "code",
   "execution_count": 82,
   "metadata": {},
   "outputs": [
    {
     "data": {
      "image/png": "[encoded data removed]",
      "text/plain": [
       "<Figure size 1000x700 with 1 Axes>"
      ]
     },
     "metadata": {},
     "output_type": "display_data"
    }
   ],
   "source": [
    "plot_predictions()"
   ]
  },
  {
   "cell_type": "markdown",
   "metadata": {},
   "source": [
    "## 2. Build a model\n",
    "\n",
    "What out model does:\n",
    "* Starts with random values (weight & bias)\n",
    "* Looks at training data and adjust random values to better represent the ideal values (weights and bias we used to create data)\n",
    "\n",
    "How does it do it?\n",
    "\n",
    "Through two main algorithms:\n",
    "1. Gradient descent\n",
    "2. Backpropagation"
   ]
  },
  {
   "cell_type": "code",
   "execution_count": 83,
   "metadata": {},
   "outputs": [],
   "source": [
    "# Create a linear regression model clas\n",
    "\n",
    "class LinearRegressionModel(nn.Module):\n",
    "    def __init__(self):\n",
    "        super().__init__()\n",
    "        self.weights = nn.Parameter(torch.randn(1, requires_grad=True, dtype=float))\n",
    "        self.bias = nn.Parameter(torch.randn(1, requires_grad=True, dtype=float))\n",
    "        \n",
    "    # Forward method to define the computation in the model\n",
    "    def forward(self, x: torch.Tensor) -> torch.Tensor:\n",
    "        return self.weights * x + self.bias "
   ]
  },
  {
   "cell_type": "markdown",
   "metadata": {},
   "source": [
    "### Pytorch model building essentials\n",
    "\n",
    "* nn.Module contains the larger building blocks (layers)\n",
    "* nn.Parameter contains the smaller parameters like weights and biases (put these together to make nn.Module(s))\n",
    "* forward() tells the larger blocks how to make calculations on inputs (tensors full of data) within nn.Module(s)\n",
    "* torch.optim contains optimization methods on how to improve the parameters within nn.Parameter to better represent input data"
   ]
  },
  {
   "cell_type": "markdown",
   "metadata": {},
   "source": [
    "### Checking the contents of our model\n",
    "\n",
    "We can check the model parameters or what's inside our model using .parameters()"
   ]
  },
  {
   "cell_type": "code",
   "execution_count": 100,
   "metadata": {},
   "outputs": [
    {
     "data": {
      "text/plain": [
       "[Parameter containing:\n",
       " tensor([0.3367], dtype=torch.float64, requires_grad=True),\n",
       " Parameter containing:\n",
       " tensor([0.1288], dtype=torch.float64, requires_grad=True)]"
      ]
     },
     "execution_count": 100,
     "metadata": {},
     "output_type": "execute_result"
    }
   ],
   "source": [
    "# Create a manual seed\n",
    "torch.manual_seed(42)\n",
    "\n",
    "# Create an instance of model\n",
    "model_0 = LinearRegressionModel()\n",
    "\n",
    "# Check out the parameters\n",
    "list(model_0.parameters())"
   ]
  },
  {
   "cell_type": "code",
   "execution_count": 101,
   "metadata": {},
   "outputs": [
    {
     "data": {
      "text/plain": [
       "OrderedDict([('weights', tensor([0.3367], dtype=torch.float64)),\n",
       "             ('bias', tensor([0.1288], dtype=torch.float64))])"
      ]
     },
     "execution_count": 101,
     "metadata": {},
     "output_type": "execute_result"
    }
   ],
   "source": [
    "# List named parameters\n",
    "model_0.state_dict()"
   ]
  },
  {
   "cell_type": "markdown",
   "metadata": {},
   "source": [
    "### Making predictions using `torch.inference_mode()`\n",
    "\n",
    "To check out model's predictive power, let's see how well it predicts `y_test` based on `X_test`.\n",
    "\n",
    "When we pass data into our model, it is going to run it through the forward() method."
   ]
  },
  {
   "cell_type": "code",
   "execution_count": 102,
   "metadata": {},
   "outputs": [
    {
     "data": {
      "text/plain": [
       "tensor([[0.3982],\n",
       "        [0.3998],\n",
       "        [0.4015],\n",
       "        [0.4032],\n",
       "        [0.4049],\n",
       "        [0.4066],\n",
       "        [0.4083],\n",
       "        [0.4099],\n",
       "        [0.4116],\n",
       "        [0.4133],\n",
       "        [0.4150],\n",
       "        [0.4167],\n",
       "        [0.4184],\n",
       "        [0.4200],\n",
       "        [0.4217],\n",
       "        [0.4234],\n",
       "        [0.4251],\n",
       "        [0.4268],\n",
       "        [0.4285],\n",
       "        [0.4301],\n",
       "        [0.4318],\n",
       "        [0.4335],\n",
       "        [0.4352],\n",
       "        [0.4369],\n",
       "        [0.4386],\n",
       "        [0.4402],\n",
       "        [0.4419],\n",
       "        [0.4436],\n",
       "        [0.4453],\n",
       "        [0.4470],\n",
       "        [0.4487],\n",
       "        [0.4503],\n",
       "        [0.4520],\n",
       "        [0.4537],\n",
       "        [0.4554],\n",
       "        [0.4571],\n",
       "        [0.4588],\n",
       "        [0.4604],\n",
       "        [0.4621],\n",
       "        [0.4638]], dtype=torch.float64)"
      ]
     },
     "execution_count": 102,
     "metadata": {},
     "output_type": "execute_result"
    }
   ],
   "source": [
    "# Make predictions with model\n",
    "with torch.inference_mode():\n",
    "    y_preds = model_0(X_test)\n",
    "\n",
    "y_preds"
   ]
  },
  {
   "cell_type": "code",
   "execution_count": 87,
   "metadata": {},
   "outputs": [
    {
     "data": {
      "image/png": "[encoded data removed]",
      "text/plain": [
       "<Figure size 1000x700 with 1 Axes>"
      ]
     },
     "metadata": {},
     "output_type": "display_data"
    }
   ],
   "source": [
    "# Plot predictions\n",
    "plot_predictions(predictions=y_preds)"
   ]
  },
  {
   "cell_type": "markdown",
   "metadata": {},
   "source": [
    "## 3. Train model\n",
    "\n",
    "The whole idea of training is for a model to move from some *unknown* paramaters to some *known* parameters, or from a poor\n",
    "representation of data to a better representatiion of data.\n",
    "\n",
    "* **Loss function:** A function to measure how wrong your model's predictions are to the ideal outputs, lower is better.\n",
    "* **Optimizer:** Takes into account the loss of a model and adjusts the model's parameters (weights and bias) to improve the loss function."
   ]
  },
  {
   "cell_type": "code",
   "execution_count": 103,
   "metadata": {},
   "outputs": [
    {
     "data": {
      "text/plain": [
       "OrderedDict([('weights', tensor([0.3367], dtype=torch.float64)),\n",
       "             ('bias', tensor([0.1288], dtype=torch.float64))])"
      ]
     },
     "execution_count": 103,
     "metadata": {},
     "output_type": "execute_result"
    }
   ],
   "source": [
    "model_0.state_dict()"
   ]
  },
  {
   "cell_type": "code",
   "execution_count": 104,
   "metadata": {},
   "outputs": [],
   "source": [
    "# Setup a loss function\n",
    "loss_fn = nn.L1Loss()\n",
    "\n",
    "# Setup an optimizer (stochastic gradient descent)\n",
    "optimizer = torch.optim.SGD(params=model_0.parameters(),\n",
    "                            lr=0.01 #lr - learning rate\n",
    "                            )"
   ]
  },
  {
   "cell_type": "markdown",
   "metadata": {},
   "source": [
    "### Building a training loop and a testing loop in Pytorch\n",
    "\n",
    "Things needed:\n",
    "0. Loop through data\n",
    "1. Forward pass (this involves data moving through our model's `forward()` method) to make predictions on data - also called forward propagation\n",
    "2. Calculate the loss (compared forward pass predictions to ground truth labels).\n",
    "3. Optimizer zero grad\n",
    "4. Loss backward - move backwards through network to calculate the gradients of each of the parameters of our model wrt the loss. (**backpropagation**)\n",
    "5. Optimizer step - use the optimizer to adjust our model's parameters to try and improve the loss. (**gradient descent**)\n"
   ]
  },
  {
   "cell_type": "code",
   "execution_count": 105,
   "metadata": {},
   "outputs": [
    {
     "name": "stdout",
     "output_type": "stream",
     "text": [
      "Epoch: 0 | Test: 0.3156061863784328 | Test loss: 0.48369344144942056\n",
      "OrderedDict({'weights': tensor([0.3407], dtype=torch.float64), 'bias': tensor([0.1388], dtype=torch.float64)})\n",
      "Epoch: 10 | Test: 0.1998055616544174 | Test loss: 0.3480178170216094\n",
      "OrderedDict({'weights': tensor([0.3804], dtype=torch.float64), 'bias': tensor([0.2388], dtype=torch.float64)})\n",
      "Epoch: 20 | Test: 0.08974413562279607 | Test loss: 0.21736864571514253\n",
      "OrderedDict({'weights': tensor([0.4200], dtype=torch.float64), 'bias': tensor([0.3339], dtype=torch.float64)})\n",
      "Epoch: 30 | Test: 0.05273209576387546 | Test loss: 0.14357052428127778\n",
      "OrderedDict({'weights': tensor([0.4532], dtype=torch.float64), 'bias': tensor([0.3779], dtype=torch.float64)})\n",
      "Epoch: 40 | Test: 0.045055751754306705 | Test loss: 0.11229136051268915\n",
      "OrderedDict({'weights': tensor([0.4769], dtype=torch.float64), 'bias': tensor([0.3879], dtype=torch.float64)})\n",
      "Epoch: 50 | Test: 0.04128200080334653 | Test loss: 0.09775120147378794\n",
      "OrderedDict({'weights': tensor([0.4959], dtype=torch.float64), 'bias': tensor([0.3854], dtype=torch.float64)})\n",
      "Epoch: 60 | Test: 0.03784023337826024 | Test loss: 0.08817948774693397\n",
      "OrderedDict({'weights': tensor([0.5134], dtype=torch.float64), 'bias': tensor([0.3793], dtype=torch.float64)})\n",
      "Epoch: 70 | Test: 0.03442030768598313 | Test loss: 0.08016076934255967\n",
      "OrderedDict({'weights': tensor([0.5304], dtype=torch.float64), 'bias': tensor([0.3721], dtype=torch.float64)})\n",
      "Epoch: 80 | Test: 0.03100051690609592 | Test loss: 0.0719693712496963\n",
      "OrderedDict({'weights': tensor([0.5475], dtype=torch.float64), 'bias': tensor([0.3649], dtype=torch.float64)})\n",
      "Epoch: 90 | Test: 0.02758083730641933 | Test loss: 0.063950652845322\n",
      "OrderedDict({'weights': tensor([0.5645], dtype=torch.float64), 'bias': tensor([0.3577], dtype=torch.float64)})\n",
      "Epoch: 100 | Test: 0.024160924163727497 | Test loss: 0.055931934440947705\n",
      "OrderedDict({'weights': tensor([0.5815], dtype=torch.float64), 'bias': tensor([0.3504], dtype=torch.float64)})\n",
      "Epoch: 110 | Test: 0.020740998471450386 | Test loss: 0.047913216036573406\n",
      "OrderedDict({'weights': tensor([0.5985], dtype=torch.float64), 'bias': tensor([0.3432], dtype=torch.float64)})\n",
      "Epoch: 120 | Test: 0.01732107277917327 | Test loss: 0.0398944976321991\n",
      "OrderedDict({'weights': tensor([0.6155], dtype=torch.float64), 'bias': tensor([0.3359], dtype=torch.float64)})\n",
      "Epoch: 130 | Test: 0.013901147086896154 | Test loss: 0.0318757792278248\n",
      "OrderedDict({'weights': tensor([0.6325], dtype=torch.float64), 'bias': tensor([0.3287], dtype=torch.float64)})\n",
      "Epoch: 140 | Test: 0.01048122139461904 | Test loss: 0.023857060823450498\n",
      "OrderedDict({'weights': tensor([0.6495], dtype=torch.float64), 'bias': tensor([0.3214], dtype=torch.float64)})\n",
      "Epoch: 150 | Test: 0.007061308536357188 | Test loss: 0.015665662730587136\n",
      "OrderedDict({'weights': tensor([0.6666], dtype=torch.float64), 'bias': tensor([0.3143], dtype=torch.float64)})\n",
      "Epoch: 160 | Test: 0.0036416289366806008 | Test loss: 0.00764694432621284\n",
      "OrderedDict({'weights': tensor([0.6836], dtype=torch.float64), 'bias': tensor([0.3071], dtype=torch.float64)})\n",
      "Epoch: 170 | Test: 0.005553706525419982 | Test loss: 0.004412472637374276\n",
      "OrderedDict({'weights': tensor([0.6968], dtype=torch.float64), 'bias': tensor([0.3073], dtype=torch.float64)})\n",
      "Epoch: 180 | Test: 0.005553706525419982 | Test loss: 0.004412472637374276\n",
      "OrderedDict({'weights': tensor([0.6968], dtype=torch.float64), 'bias': tensor([0.3073], dtype=torch.float64)})\n",
      "Epoch: 190 | Test: 0.005553706525419982 | Test loss: 0.004412472637374276\n",
      "OrderedDict({'weights': tensor([0.6968], dtype=torch.float64), 'bias': tensor([0.3073], dtype=torch.float64)})\n"
     ]
    }
   ],
   "source": [
    "# An epoch is one loop through the data (a hyperparameter because we set it ourselves)\n",
    "epochs = 200\n",
    "\n",
    "# Track different values\n",
    "epoch_count = []\n",
    "loss_values = []\n",
    "test_loss_values = []\n",
    "\n",
    "### Training\n",
    "# 0. Loop through the data\n",
    "for epoch in range(epochs):\n",
    "    #Set the model to training mode\n",
    "    model_0.train() #sets all params that require gradients to require gradients\n",
    "    \n",
    "    # 1. Forward pass\n",
    "    y_pred = model_0(X_train)\n",
    "    \n",
    "    # 2. Calculate loss\n",
    "    loss = loss_fn(y_pred, y_train)\n",
    "    \n",
    "    # 3. Optimizer\n",
    "    optimizer.zero_grad()\n",
    "    \n",
    "    # 4. Perform backpropagation on the loss wrt to model params\n",
    "    loss.backward()\n",
    "    \n",
    "    # 5. Step the optimizer (gradient descent)\n",
    "    optimizer.step()\n",
    "     \n",
    "    ### Testing\n",
    "    model_0.eval() #turns off gradient tracking and different settings in the model not needed for evaluation/testing (dropout, batch norm layers)\n",
    "    with torch.inference_mode(): #turns off gradient tracking \n",
    "        # 1. Do the forward pass\n",
    "        test_pred = model_0(X_test)\n",
    "        \n",
    "        #2. Calculate the loss\n",
    "        test_loss = loss_fn(test_pred, y_test)\n",
    "    \n",
    "    if epoch % 10 == 0:    \n",
    "    # Print out what's happening  \n",
    "        epoch_count.append(epoch)\n",
    "        loss_values.append(loss)\n",
    "        test_loss_values.append(test_loss)\n",
    "        print(f\"Epoch: {epoch} | Test: {loss} | Test loss: {test_loss}\")\n",
    "        print(model_0.state_dict())"
   ]
  },
  {
   "cell_type": "markdown",
   "metadata": {},
   "source": [
    "## 4. Making predictions and evaluating a model (inference)"
   ]
  },
  {
   "cell_type": "code",
   "execution_count": 112,
   "metadata": {},
   "outputs": [
    {
     "data": {
      "text/plain": [
       "<matplotlib.legend.Legend at 0x7feb28707830>"
      ]
     },
     "execution_count": 112,
     "metadata": {},
     "output_type": "execute_result"
    },
    {
     "data": {
      "image/png": "[encoded data removed]",
      "text/plain": [
       "<Figure size 640x480 with 1 Axes>"
      ]
     },
     "metadata": {},
     "output_type": "display_data"
    }
   ],
   "source": [
    "# Plot loss curves\n",
    "plt.plot(epoch_count, np.array(torch.tensor(loss_values).numpy()), label=\"Train Loss\")\n",
    "plt.plot(epoch_count, test_loss_values, label=\"Test Loss\")\n",
    "plt.title(\"Training and test loss curves\")\n",
    "plt.ylabel(\"Loss\")\n",
    "plt.xlabel(\"Epochs\")\n",
    "plt.legend()"
   ]
  },
  {
   "cell_type": "code",
   "execution_count": 106,
   "metadata": {},
   "outputs": [
    {
     "data": {
      "image/png": "[encoded data removed]",
      "text/plain": [
       "<Figure size 1000x700 with 1 Axes>"
      ]
     },
     "metadata": {},
     "output_type": "display_data"
    }
   ],
   "source": [
    "with torch.inference_mode():\n",
    "    y_preds_new = model_0(X_test)\n",
    "    \n",
    "plot_predictions(predictions=y_preds_new)"
   ]
  },
  {
   "cell_type": "markdown",
   "metadata": {},
   "source": [
    "## 5. Saving and loading a model"
   ]
  },
  {
   "cell_type": "markdown",
   "metadata": {},
   "source": [
    "### Saving a model in Pytorch\n",
    "\n",
    "There are three main methods for saving and loading models in Pytorch.\n",
    "\n",
    "1. `torch.save()` - allows you to save a Pytorch object in Python's pickle format.\n",
    "2. `torch.load()` - allows you to load a save Pytorch object\n",
    "3. `torch.nn.Module.load_state_dict()` - allows you to load a model's saved dictionary"
   ]
  },
  {
   "cell_type": "code",
   "execution_count": 117,
   "metadata": {},
   "outputs": [
    {
     "name": "stdout",
     "output_type": "stream",
     "text": [
      "Saving model to: models/01_pytorch_workflow_model_0.pth\n",
      "Saving full model to: models/01_pytorch_workflow_model_0_full.pth\n"
     ]
    }
   ],
   "source": [
    "# Saving out Pytorch model\n",
    "from pathlib import Path\n",
    "\n",
    "# 1. Create models directory\n",
    "MODEL_PATH = Path(\"models\")\n",
    "MODEL_PATH.mkdir(parents=True, exist_ok=True)\n",
    "\n",
    "# 2. Create model save path\n",
    "MODEL_NAME = \"01_pytorch_workflow_model_0.pth\"\n",
    "FULL_MODEL_NAME = \"01_pytorch_workflow_model_0_full.pth\"\n",
    "MODEL_SAVE_PATH = MODEL_PATH / MODEL_NAME\n",
    "FULL_MODEL_SAVE_PATH = MODEL_PATH / FULL_MODEL_NAME\n",
    "\n",
    "MODEL_SAVE_PATH\n",
    "\n",
    "# 3. Save the model state dict\n",
    "print(f\"Saving model to: {MODEL_SAVE_PATH}\")\n",
    "torch.save(obj=model_0.state_dict(),\n",
    "           f=MODEL_SAVE_PATH)\n",
    "\n",
    "\n",
    "print(f\"Saving full model to: {FULL_MODEL_SAVE_PATH}\")\n",
    "torch.save(obj=model_0,\n",
    "           f=FULL_MODEL_SAVE_PATH)"
   ]
  },
  {
   "cell_type": "markdown",
   "metadata": {},
   "source": [
    "### Loading a model in Pytorch\n",
    "\n",
    "Since we saved our model's state_dict() rather than the entire model, we 'll create a new instance of our model class and load the saved `state_dict()` into that.\n"
   ]
  },
  {
   "cell_type": "code",
   "execution_count": null,
   "metadata": {},
   "outputs": [
    {
     "name": "stdout",
     "output_type": "stream",
     "text": [
      "Previous weights: 0.28151956559794167, previous bias: 0.05616354046869207\n",
      "Current weights: 0.6927972250486065, Current bias: 0.2973094051365921\n"
     ]
    }
   ],
   "source": [
    "# To load in saved state_dict() we have to instantiate a new instance of our model class\n",
    "loaded_model_0 = LinearRegressionModel()\n",
    "\n",
    "# Load the save state_dict() of model_0 (this will update the new instance with updated parameters)\n",
    "print(f\"Previous weights: {loaded_model_0.state_dict()['weights'][0]}, previous bias: {loaded_model_0.state_dict()['bias'][0]}\")\n",
    "\n",
    "loaded_model_0.load_state_dict(torch.load(f=MODEL_SAVE_PATH, weights_only=True))\n",
    "\n",
    "print(f\"Current weights: {loaded_model_0.state_dict()['weights'][0]}, Current bias: {loaded_model_0.state_dict()['bias'][0]}\")"
   ]
  },
  {
   "cell_type": "code",
   "execution_count": 137,
   "metadata": {},
   "outputs": [
    {
     "data": {
      "text/plain": [
       "(tensor([[0.8515],\n",
       "         [0.8550],\n",
       "         [0.8585],\n",
       "         [0.8619],\n",
       "         [0.8654],\n",
       "         [0.8689],\n",
       "         [0.8723],\n",
       "         [0.8758],\n",
       "         [0.8793],\n",
       "         [0.8827],\n",
       "         [0.8862],\n",
       "         [0.8897],\n",
       "         [0.8931],\n",
       "         [0.8966],\n",
       "         [0.9000],\n",
       "         [0.9035],\n",
       "         [0.9070],\n",
       "         [0.9104],\n",
       "         [0.9139],\n",
       "         [0.9174],\n",
       "         [0.9208],\n",
       "         [0.9243],\n",
       "         [0.9278],\n",
       "         [0.9312],\n",
       "         [0.9347],\n",
       "         [0.9381],\n",
       "         [0.9416],\n",
       "         [0.9451],\n",
       "         [0.9485],\n",
       "         [0.9520],\n",
       "         [0.9555],\n",
       "         [0.9589],\n",
       "         [0.9624],\n",
       "         [0.9659],\n",
       "         [0.9693],\n",
       "         [0.9728],\n",
       "         [0.9763],\n",
       "         [0.9797],\n",
       "         [0.9832],\n",
       "         [0.9866]], dtype=torch.float64),\n",
       " tensor([[0.8515],\n",
       "         [0.8550],\n",
       "         [0.8585],\n",
       "         [0.8619],\n",
       "         [0.8654],\n",
       "         [0.8689],\n",
       "         [0.8723],\n",
       "         [0.8758],\n",
       "         [0.8793],\n",
       "         [0.8827],\n",
       "         [0.8862],\n",
       "         [0.8897],\n",
       "         [0.8931],\n",
       "         [0.8966],\n",
       "         [0.9000],\n",
       "         [0.9035],\n",
       "         [0.9070],\n",
       "         [0.9104],\n",
       "         [0.9139],\n",
       "         [0.9174],\n",
       "         [0.9208],\n",
       "         [0.9243],\n",
       "         [0.9278],\n",
       "         [0.9312],\n",
       "         [0.9347],\n",
       "         [0.9381],\n",
       "         [0.9416],\n",
       "         [0.9451],\n",
       "         [0.9485],\n",
       "         [0.9520],\n",
       "         [0.9555],\n",
       "         [0.9589],\n",
       "         [0.9624],\n",
       "         [0.9659],\n",
       "         [0.9693],\n",
       "         [0.9728],\n",
       "         [0.9763],\n",
       "         [0.9797],\n",
       "         [0.9832],\n",
       "         [0.9866]], dtype=torch.float64),\n",
       " tensor([[True],\n",
       "         [True],\n",
       "         [True],\n",
       "         [True],\n",
       "         [True],\n",
       "         [True],\n",
       "         [True],\n",
       "         [True],\n",
       "         [True],\n",
       "         [True],\n",
       "         [True],\n",
       "         [True],\n",
       "         [True],\n",
       "         [True],\n",
       "         [True],\n",
       "         [True],\n",
       "         [True],\n",
       "         [True],\n",
       "         [True],\n",
       "         [True],\n",
       "         [True],\n",
       "         [True],\n",
       "         [True],\n",
       "         [True],\n",
       "         [True],\n",
       "         [True],\n",
       "         [True],\n",
       "         [True],\n",
       "         [True],\n",
       "         [True],\n",
       "         [True],\n",
       "         [True],\n",
       "         [True],\n",
       "         [True],\n",
       "         [True],\n",
       "         [True],\n",
       "         [True],\n",
       "         [True],\n",
       "         [True],\n",
       "         [True]]))"
      ]
     },
     "execution_count": 137,
     "metadata": {},
     "output_type": "execute_result"
    }
   ],
   "source": [
    "# Make some predictions with our loaded model\n",
    "model_0.eval()\n",
    "with torch.inference_mode():\n",
    "    y_preds = model_0(X_test)\n",
    "\n",
    "loaded_model_0.eval()\n",
    "with torch.inference_mode():\n",
    "    loaded_model_preds = loaded_model_0(X_test)\n",
    "    \n",
    "y_preds, loaded_model_preds, y_preds == loaded_model_preds"
   ]
  },
  {
   "cell_type": "markdown",
   "metadata": {},
   "source": [
    "## 6. Putting it all together\n",
    "\n",
    "Let's go back through the steps and see it all in one place."
   ]
  },
  {
   "cell_type": "code",
   "execution_count": null,
   "metadata": {},
   "outputs": [
    {
     "data": {
      "text/plain": [
       "'2.5.1+cpu'"
      ]
     },
     "execution_count": 138,
     "metadata": {},
     "output_type": "execute_result"
    }
   ],
   "source": [
    "# Import Pytorch and matplotlib\n",
    "import torch\n",
    "from torch import nn\n",
    "import matplotlib.pyplot as plt\n",
    "\n",
    "# Check PyTorch version\n",
    "torch.__version__"
   ]
  },
  {
   "cell_type": "markdown",
   "metadata": {},
   "source": [
    "Create device agnostic code\n",
    "\n",
    "If GPU available, code will use it. If not, defaults to CPU."
   ]
  },
  {
   "cell_type": "code",
   "execution_count": 139,
   "metadata": {},
   "outputs": [
    {
     "name": "stdout",
     "output_type": "stream",
     "text": [
      "Using device: cpu\n"
     ]
    }
   ],
   "source": [
    "# Setup device agnostic code\n",
    "device = \"cuda\" if torch.cuda.is_available() else \"cpu\"\n",
    "print(f\"Using device: {device}\")"
   ]
  },
  {
   "cell_type": "markdown",
   "metadata": {},
   "source": [
    "### 6.1 Data"
   ]
  },
  {
   "cell_type": "code",
   "execution_count": 165,
   "metadata": {},
   "outputs": [
    {
     "data": {
      "text/plain": [
       "(tensor([[0.0000],\n",
       "         [0.0100],\n",
       "         [0.0200],\n",
       "         [0.0300],\n",
       "         [0.0400],\n",
       "         [0.0500],\n",
       "         [0.0600],\n",
       "         [0.0700],\n",
       "         [0.0800],\n",
       "         [0.0900]]),\n",
       " tensor([[0.2000],\n",
       "         [0.2090],\n",
       "         [0.2180],\n",
       "         [0.2270],\n",
       "         [0.2360],\n",
       "         [0.2450],\n",
       "         [0.2540],\n",
       "         [0.2630],\n",
       "         [0.2720],\n",
       "         [0.2810]]))"
      ]
     },
     "execution_count": 165,
     "metadata": {},
     "output_type": "execute_result"
    }
   ],
   "source": [
    "# Create some data using linear regression formula of y = weight * X + bias\n",
    "\n",
    "weight = 0.9\n",
    "bias = 0.2\n",
    "\n",
    "# Create range values\n",
    "start = 0\n",
    "end = 1\n",
    "step = 0.01\n",
    "\n",
    "# Create X and y (features and labels)\n",
    "X = torch.arange(start, end, step).unsqueeze(dim=1)\n",
    "y = weight * X + bias\n",
    "X[:10], y[:10]"
   ]
  },
  {
   "cell_type": "code",
   "execution_count": 166,
   "metadata": {},
   "outputs": [
    {
     "data": {
      "text/plain": [
       "(80, 80, 20, 20)"
      ]
     },
     "execution_count": 166,
     "metadata": {},
     "output_type": "execute_result"
    }
   ],
   "source": [
    "# Split data\n",
    "train_split = int(0.8 * len(X))\n",
    "X_train, y_train = X[:train_split], y[:train_split]\n",
    "X_test, y_test = X[train_split:], y[train_split:]\n",
    "len(X_train), len(y_train), len(X_test), len(y_test)"
   ]
  },
  {
   "cell_type": "code",
   "execution_count": 167,
   "metadata": {},
   "outputs": [
    {
     "data": {
      "image/png": "[encoded data removed]",
      "text/plain": [
       "<Figure size 1000x700 with 1 Axes>"
      ]
     },
     "metadata": {},
     "output_type": "display_data"
    }
   ],
   "source": [
    "# Plot the data\n",
    "plot_predictions(X_train, y_train, X_test, y_test)"
   ]
  },
  {
   "cell_type": "markdown",
   "metadata": {},
   "source": [
    "### 6.2 Building a PyTorch linear model"
   ]
  },
  {
   "cell_type": "code",
   "execution_count": 168,
   "metadata": {},
   "outputs": [
    {
     "data": {
      "text/plain": [
       "(LinearRegressionModelV2(\n",
       "   (linear_layer): Linear(in_features=1, out_features=1, bias=True)\n",
       " ),\n",
       " OrderedDict([('linear_layer.weight', tensor([[0.7645]])),\n",
       "              ('linear_layer.bias', tensor([0.8300]))]))"
      ]
     },
     "execution_count": 168,
     "metadata": {},
     "output_type": "execute_result"
    }
   ],
   "source": [
    "# Create a linear model by subsclassing nn.Module\n",
    "class LinearRegressionModelV2(nn.Module):\n",
    "    def __init__(self):\n",
    "        super().__init__()\n",
    "        # Use nn.Linear() for creating the model parameters\n",
    "        self.linear_layer = nn.Linear(in_features=1, \n",
    "                                      out_features=1)\n",
    "        \n",
    "    def forward(self, x: torch.Tensor) -> torch.Tensor:\n",
    "        return self.linear_layer(x)\n",
    "    \n",
    "# Set manual seed\n",
    "torch.manual_seed(42)\n",
    "\n",
    "model_1 = LinearRegressionModelV2()\n",
    "model_1, model_1.state_dict()"
   ]
  },
  {
   "cell_type": "code",
   "execution_count": 169,
   "metadata": {},
   "outputs": [
    {
     "data": {
      "text/plain": [
       "device(type='cpu')"
      ]
     },
     "execution_count": 169,
     "metadata": {},
     "output_type": "execute_result"
    }
   ],
   "source": [
    "# Check the model current device\n",
    "next(model_1.parameters()).device"
   ]
  },
  {
   "cell_type": "code",
   "execution_count": 170,
   "metadata": {},
   "outputs": [
    {
     "data": {
      "text/plain": [
       "device(type='cpu')"
      ]
     },
     "execution_count": 170,
     "metadata": {},
     "output_type": "execute_result"
    }
   ],
   "source": [
    "# Set the model to use the target device \n",
    "model_1.to(device)\n",
    "next(model_1.parameters()).device"
   ]
  },
  {
   "cell_type": "markdown",
   "metadata": {},
   "source": [
    "### 6.3 Training\n",
    "\n",
    "For training we need:\n",
    "* Loss function\n",
    "* Optimizer\n",
    "* Training loop\n",
    "* Testing loop"
   ]
  },
  {
   "cell_type": "code",
   "execution_count": 171,
   "metadata": {},
   "outputs": [],
   "source": [
    "# Setting loss function\n",
    "loss_fn = nn.L1Loss() #same as MAE\n",
    "\n",
    "# Setup our optimizer\n",
    "optimizer = torch.optim.SGD(params=model_1.parameters(), \n",
    "                            lr=0.01)"
   ]
  },
  {
   "cell_type": "code",
   "execution_count": 187,
   "metadata": {},
   "outputs": [
    {
     "name": "stdout",
     "output_type": "stream",
     "text": [
      "Epoch: 0 | Loss: 0.0042980206198990345 | Test loss: 0.010768512263894081\n",
      "Epoch: 10 | Loss: 0.0042980206198990345 | Test loss: 0.010768512263894081\n",
      "Epoch: 20 | Loss: 0.0042980206198990345 | Test loss: 0.010768512263894081\n",
      "Epoch: 30 | Loss: 0.0042980206198990345 | Test loss: 0.010768512263894081\n",
      "Epoch: 40 | Loss: 0.0042980206198990345 | Test loss: 0.010768512263894081\n",
      "Epoch: 50 | Loss: 0.0042980206198990345 | Test loss: 0.010768512263894081\n",
      "Epoch: 60 | Loss: 0.0042980206198990345 | Test loss: 0.010768512263894081\n",
      "Epoch: 70 | Loss: 0.0042980206198990345 | Test loss: 0.010768512263894081\n",
      "Epoch: 80 | Loss: 0.0042980206198990345 | Test loss: 0.010768512263894081\n",
      "Epoch: 90 | Loss: 0.0042980206198990345 | Test loss: 0.010768512263894081\n",
      "Epoch: 100 | Loss: 0.0042980206198990345 | Test loss: 0.010768512263894081\n",
      "Epoch: 110 | Loss: 0.0042980206198990345 | Test loss: 0.010768512263894081\n",
      "Epoch: 120 | Loss: 0.0042980206198990345 | Test loss: 0.010768512263894081\n",
      "Epoch: 130 | Loss: 0.0042980206198990345 | Test loss: 0.010768512263894081\n",
      "Epoch: 140 | Loss: 0.0042980206198990345 | Test loss: 0.010768512263894081\n",
      "Epoch: 150 | Loss: 0.0042980206198990345 | Test loss: 0.010768512263894081\n",
      "Epoch: 160 | Loss: 0.0042980206198990345 | Test loss: 0.010768512263894081\n",
      "Epoch: 170 | Loss: 0.0042980206198990345 | Test loss: 0.010768512263894081\n",
      "Epoch: 180 | Loss: 0.0042980206198990345 | Test loss: 0.010768512263894081\n",
      "Epoch: 190 | Loss: 0.0042980206198990345 | Test loss: 0.010768512263894081\n"
     ]
    }
   ],
   "source": [
    "# Let's write a training loop\n",
    "torch.manual_seed(42)\n",
    "\n",
    "epochs = 200\n",
    "\n",
    "# Put data on the target device (device agnostic code for data)\n",
    "X_train = X_train.to(device)\n",
    "y_train = y_train.to(device)\n",
    "X_test = X_test.to(device)\n",
    "y_test = y_test.to(device)\n",
    "\n",
    "for epoch in range(epochs):\n",
    "    model_1.train()\n",
    "    \n",
    "    # 1. Forward pass\n",
    "    y_pred = model_1(X_train)\n",
    "    \n",
    "    # 2. Calculate the loss\n",
    "    loss = loss_fn(y_pred, y_train)\n",
    "    \n",
    "    # 3. Optimizer zero grad\n",
    "    optimizer.zero_grad()\n",
    "    \n",
    "    # 4. Back propagate\n",
    "    loss.backward()\n",
    "    \n",
    "    # 5. Optimizer step\n",
    "    optimizer.step()\n",
    "    \n",
    "    ### Testing\n",
    "    model_1.eval()\n",
    "    with torch.inference_mode():\n",
    "        test_pred = model_1(X_test)\n",
    "        \n",
    "        test_loss = loss_fn(test_pred, y_test)\n",
    "        \n",
    "    # Print out what is happening\n",
    "    \n",
    "    if epoch % 10 == 0:\n",
    "        print(f\"Epoch: {epoch} | Loss: {loss} | Test loss: {test_loss}\")"
   ]
  },
  {
   "cell_type": "code",
   "execution_count": 188,
   "metadata": {},
   "outputs": [
    {
     "data": {
      "text/plain": [
       "(OrderedDict([('linear_layer.weight', tensor([[0.8969]])),\n",
       "              ('linear_layer.bias', tensor([0.2055]))]),\n",
       " 0.9,\n",
       " 0.2)"
      ]
     },
     "execution_count": 188,
     "metadata": {},
     "output_type": "execute_result"
    }
   ],
   "source": [
    "model_1.state_dict(), weight, bias"
   ]
  },
  {
   "cell_type": "markdown",
   "metadata": {},
   "source": [
    "### 6.4 Making and evaluating predictions"
   ]
  },
  {
   "cell_type": "code",
   "execution_count": 189,
   "metadata": {},
   "outputs": [
    {
     "data": {
      "text/plain": [
       "tensor([[0.9231],\n",
       "        [0.9320],\n",
       "        [0.9410],\n",
       "        [0.9500],\n",
       "        [0.9589],\n",
       "        [0.9679],\n",
       "        [0.9769],\n",
       "        [0.9858],\n",
       "        [0.9948],\n",
       "        [1.0038],\n",
       "        [1.0128],\n",
       "        [1.0217],\n",
       "        [1.0307],\n",
       "        [1.0397],\n",
       "        [1.0486],\n",
       "        [1.0576],\n",
       "        [1.0666],\n",
       "        [1.0755],\n",
       "        [1.0845],\n",
       "        [1.0935]])"
      ]
     },
     "execution_count": 189,
     "metadata": {},
     "output_type": "execute_result"
    }
   ],
   "source": [
    "# Turn model on evaluation mode\n",
    "model_1.eval()\n",
    "\n",
    "# Make predictions on the test data\n",
    "with torch.inference_mode():\n",
    "    y_preds = model_1(X_test)\n",
    "y_preds"
   ]
  },
  {
   "cell_type": "code",
   "execution_count": 190,
   "metadata": {},
   "outputs": [
    {
     "data": {
      "image/png": "[encoded data removed]",
      "text/plain": [
       "<Figure size 1000x700 with 1 Axes>"
      ]
     },
     "metadata": {},
     "output_type": "display_data"
    }
   ],
   "source": [
    "# Check out our model predictions visually\n",
    "plot_predictions(X_train, y_train, X_test, y_test, predictions=y_preds)"
   ]
  },
  {
   "cell_type": "markdown",
   "metadata": {},
   "source": [
    "### 6.5 Saving and loading a trained model"
   ]
  },
  {
   "cell_type": "code",
   "execution_count": null,
   "metadata": {},
   "outputs": [
    {
     "name": "stdout",
     "output_type": "stream",
     "text": [
      "Saving model to: models/01_pytorch_workflow_model_1.pth\n"
     ]
    }
   ],
   "source": [
    "# Save a PyTorch Model\n",
    "from pathlib import Path\n",
    "\n",
    "# 1. Create models directory\n",
    "MODEL_PATH = Path(\"models\")\n",
    "MODEL_PATH.mkdir(parents=True, exist_ok=True)\n",
    "\n",
    "# 2. Create model save path\n",
    "MODEL_NAME = \"01_pytorch_workflow_model_1.pth\"\n",
    "MODEL_SAVE_PATH = MODEL_PATH / MODEL_NAME\n",
    "\n",
    "# 3. Save the model state dict\n",
    "print(f\"Saving model to: {MODEL_SAVE_PATH}\")\n",
    "torch.save(obj=model_1.state_dict(),\n",
    "           f=MODEL_SAVE_PATH)"
   ]
  },
  {
   "cell_type": "code",
   "execution_count": 194,
   "metadata": {},
   "outputs": [
    {
     "data": {
      "text/plain": [
       "LinearRegressionModelV2(\n",
       "  (linear_layer): Linear(in_features=1, out_features=1, bias=True)\n",
       ")"
      ]
     },
     "execution_count": 194,
     "metadata": {},
     "output_type": "execute_result"
    }
   ],
   "source": [
    "# Load a PyTorch model\n",
    "\n",
    "# Create a new instance of linear regression model V2\n",
    "loaded_model_1 = LinearRegressionModelV2()\n",
    "\n",
    "#Load the saved model_1 state_dict()\n",
    "loaded_model_1.load_state_dict(torch.load(MODEL_SAVE_PATH, weights_only=True))\n",
    "\n",
    "# Put the target model to the device\n",
    "loaded_model_1.to(device)"
   ]
  },
  {
   "cell_type": "code",
   "execution_count": 195,
   "metadata": {},
   "outputs": [
    {
     "data": {
      "text/plain": [
       "device(type='cpu')"
      ]
     },
     "execution_count": 195,
     "metadata": {},
     "output_type": "execute_result"
    }
   ],
   "source": [
    "next(loaded_model_1.parameters()).device"
   ]
  },
  {
   "cell_type": "code",
   "execution_count": 196,
   "metadata": {},
   "outputs": [
    {
     "data": {
      "text/plain": [
       "OrderedDict([('linear_layer.weight', tensor([[0.8969]])),\n",
       "             ('linear_layer.bias', tensor([0.2055]))])"
      ]
     },
     "execution_count": 196,
     "metadata": {},
     "output_type": "execute_result"
    }
   ],
   "source": [
    "loaded_model_1.state_dict()"
   ]
  },
  {
   "cell_type": "code",
   "execution_count": 197,
   "metadata": {},
   "outputs": [
    {
     "data": {
      "text/plain": [
       "tensor([[True],\n",
       "        [True],\n",
       "        [True],\n",
       "        [True],\n",
       "        [True],\n",
       "        [True],\n",
       "        [True],\n",
       "        [True],\n",
       "        [True],\n",
       "        [True],\n",
       "        [True],\n",
       "        [True],\n",
       "        [True],\n",
       "        [True],\n",
       "        [True],\n",
       "        [True],\n",
       "        [True],\n",
       "        [True],\n",
       "        [True],\n",
       "        [True]])"
      ]
     },
     "execution_count": 197,
     "metadata": {},
     "output_type": "execute_result"
    }
   ],
   "source": [
    "# Evaluate loaded_model_1\n",
    "loaded_model_1.eval()\n",
    "with torch.inference_mode():\n",
    "    loaded_model_1_preds = loaded_model_1(X_test)\n",
    "    \n",
    "y_preds == loaded_model_1_preds"
   ]
  }
 ],
 "metadata": {
  "kernelspec": {
   "display_name": ".venv",
   "language": "python",
   "name": "python3"
  },
  "language_info": {
   "codemirror_mode": {
    "name": "ipython",
    "version": 3
   },
   "file_extension": ".py",
   "mimetype": "text/x-python",
   "name": "python",
   "nbconvert_exporter": "python",
   "pygments_lexer": "ipython3",
   "version": "3.12.7"
  }
 },
 "nbformat": 4,
 "nbformat_minor": 2
}
