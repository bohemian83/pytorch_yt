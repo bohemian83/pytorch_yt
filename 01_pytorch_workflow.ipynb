{
 "cells": [
  {
   "cell_type": "code",
   "execution_count": 3,
   "metadata": {},
   "outputs": [
    {
     "data": {
      "text/plain": [
       "'2.5.1+cpu'"
      ]
     },
     "execution_count": 3,
     "metadata": {},
     "output_type": "execute_result"
    }
   ],
   "source": [
    "import torch\n",
    "from torch import nn \n",
    "import pandas as pd\n",
    "import numpy as np\n",
    "import matplotlib.pyplot as plt\n",
    "\n",
    "torch.__version__"
   ]
  },
  {
   "cell_type": "markdown",
   "metadata": {},
   "source": [
    "## Pytorch Workflow\n",
    "\n",
    "Let's explore a PyTorch end-to-end workflow.\n"
   ]
  },
  {
   "cell_type": "code",
   "execution_count": 2,
   "metadata": {},
   "outputs": [
    {
     "data": {
      "text/plain": [
       "{1: 'data (prepare and load)',\n",
       " 2: 'build model',\n",
       " 3: 'fitting the model to data (training)',\n",
       " 4: 'making predictions and evaluating a model (inference)',\n",
       " 5: 'saving and loading a model',\n",
       " 6: 'putting it all together'}"
      ]
     },
     "execution_count": 2,
     "metadata": {},
     "output_type": "execute_result"
    }
   ],
   "source": [
    "what_we_are_covering = { \n",
    "                        1: \"data (prepare and load)\",\n",
    "                        2: \"build model\",\n",
    "                        3: \"fitting the model to data (training)\",\n",
    "                        4: \"making predictions and evaluating a model (inference)\",\n",
    "                        5: \"saving and loading a model\",\n",
    "                        6: \"putting it all together\"\n",
    "}\n",
    "what_we_are_covering"
   ]
  },
  {
   "cell_type": "markdown",
   "metadata": {},
   "source": [
    "## 1. Data (preparing and loading)\n",
    "\n",
    "Data can be almost anything in machine learning.\n",
    "\n",
    "* Excel spreadsheets\n",
    "* Images of any kind\n",
    "* Videos\n",
    "* Audio\n",
    "* DNA\n",
    "* Text\n",
    "\n",
    "Machine learning is a game of two parts:\n",
    "1. Get data into a numerical representation\n",
    "2. Build a model to learn patterns in that numerical representation.\n",
    "\n",
    "To showcase this, let's create some *known* data using the linear regression formula to make a straight line with *known* **parameters**."
   ]
  },
  {
   "cell_type": "code",
   "execution_count": 13,
   "metadata": {},
   "outputs": [
    {
     "data": {
      "text/plain": [
       "(tensor([[0.0000],\n",
       "         [0.0050],\n",
       "         [0.0100],\n",
       "         [0.0150],\n",
       "         [0.0200],\n",
       "         [0.0250],\n",
       "         [0.0300],\n",
       "         [0.0350],\n",
       "         [0.0400],\n",
       "         [0.0450]]),\n",
       " tensor([[0.3000],\n",
       "         [0.3035],\n",
       "         [0.3070],\n",
       "         [0.3105],\n",
       "         [0.3140],\n",
       "         [0.3175],\n",
       "         [0.3210],\n",
       "         [0.3245],\n",
       "         [0.3280],\n",
       "         [0.3315]]),\n",
       " 200,\n",
       " 200)"
      ]
     },
     "execution_count": 13,
     "metadata": {},
     "output_type": "execute_result"
    }
   ],
   "source": [
    "# Create known parameters\n",
    "weight = 0.7\n",
    "bias = 0.3\n",
    "\n",
    "# Create data\n",
    "start = 0\n",
    "end = 1\n",
    "step = 0.005\n",
    "X = torch.arange(start, end, step).unsqueeze(dim=1)\n",
    "y = weight * X + bias\n",
    "\n",
    "X[:10], y[:10], len(X), len(y)"
   ]
  },
  {
   "cell_type": "markdown",
   "metadata": {},
   "source": [
    "### Spliting data into training and test sets (one of the most important concepts in machine learning in general)\n",
    "\n",
    "Let's create a training and test set with our data."
   ]
  },
  {
   "cell_type": "code",
   "execution_count": 14,
   "metadata": {},
   "outputs": [
    {
     "data": {
      "text/plain": [
       "(160, 160, 40, 40)"
      ]
     },
     "execution_count": 14,
     "metadata": {},
     "output_type": "execute_result"
    }
   ],
   "source": [
    "#Create a train and test split\n",
    "train_split = int(0.8 * len(X))\n",
    "X_train, y_train = X[:train_split], y[:train_split]\n",
    "X_test, y_test = X[train_split:], y[train_split:]\n",
    "\n",
    "len(X_train), len(y_train), len(X_test), len(y_test)"
   ]
  },
  {
   "cell_type": "code",
   "execution_count": 15,
   "metadata": {},
   "outputs": [],
   "source": [
    "#Let's visualize the data\n",
    "\n",
    "def plot_predictions(train_data=X_train,\n",
    "                     train_labels=y_train,\n",
    "                     test_data=X_test,\n",
    "                     test_labels=y_test,\n",
    "                     predictions=None):\n",
    "    \"\"\"\n",
    "    Plots training data, test data and compares predictions.\n",
    "    \"\"\"\n",
    "    plt.figure(figsize=(10,7))\n",
    "    \n",
    "    #Plot training data in blue\n",
    "    plt.scatter(train_data, train_labels, c=\"b\", s=4, label=\"Training data\")\n",
    "    \n",
    "    #Plot test data in green\n",
    "    plt.scatter(test_data, test_labels, c=\"g\", s=4, label=\"Testing data\")\n",
    "\n",
    "    #Are there prediction\n",
    "    if predictions is not None:\n",
    "        plt.scatter(test_data, predictions, c=\"r\", s=4, label=\"Predictions\")\n",
    "        \n",
    "    #Show the legend\n",
    "    plt.legend(prop={\"size\": 14})"
   ]
  },
  {
   "cell_type": "code",
   "execution_count": 16,
   "metadata": {},
   "outputs": [
    {
     "data": {
      "image/png": "[encoded data removed]",
      "text/plain": [
       "<Figure size 1000x700 with 1 Axes>"
      ]
     },
     "metadata": {},
     "output_type": "display_data"
    }
   ],
   "source": [
    "plot_predictions()"
   ]
  },
  {
   "cell_type": "markdown",
   "metadata": {},
   "source": [
    "## 2. Build a model\n",
    "\n",
    "What out model does:\n",
    "* Starts with random values (weight & bias)\n",
    "* Looks at training data and adjust random values to better represent the ideal values (weights and bias we used to create data)\n",
    "\n",
    "How does it do it?\n",
    "\n",
    "Through two main algorithms:\n",
    "1. Gradient descent\n",
    "2. Backpropagation"
   ]
  },
  {
   "cell_type": "code",
   "execution_count": 19,
   "metadata": {},
   "outputs": [],
   "source": [
    "# Create a linear regression model clas\n",
    "\n",
    "class LinearRegressionModel(nn.Module):\n",
    "    def __init__(self):\n",
    "        super().__init__()\n",
    "        self.weights = nn.Parameter(torch.randn(1, requires_grad=True, dtype=float))\n",
    "        self.bias = nn.Parameter(torch.randn(1, requires_grad=True, dtype=float))\n",
    "        \n",
    "    # Forward method to define the computation in the model\n",
    "    def forward(self, x: torch.Tensor) -> torch.Tensor:\n",
    "        return self.weights * x + self.bias "
   ]
  },
  {
   "cell_type": "markdown",
   "metadata": {},
   "source": [
    "### Pytorch model building essentials\n",
    "\n",
    "* nn.Module contains the larger building blocks (layers)\n",
    "* nn.Parameter contains the smaller parameters like weights and biases (put these together to make nn.Module(s))\n",
    "* forward() tells the larger blocks how to make calculations on inputs (tensors full of data) within nn.Module(s)\n",
    "* torch.optim contains optimization methods on how to improve the parameters within nn.Parameter to better represent input data"
   ]
  },
  {
   "cell_type": "markdown",
   "metadata": {},
   "source": [
    "### Checking the contents of our model\n",
    "\n",
    "We can check the model parameters or what's inside our model using .parameters()"
   ]
  },
  {
   "cell_type": "code",
   "execution_count": 22,
   "metadata": {},
   "outputs": [
    {
     "data": {
      "text/plain": [
       "[Parameter containing:\n",
       " tensor([0.3367], dtype=torch.float64, requires_grad=True),\n",
       " Parameter containing:\n",
       " tensor([0.1288], dtype=torch.float64, requires_grad=True)]"
      ]
     },
     "execution_count": 22,
     "metadata": {},
     "output_type": "execute_result"
    }
   ],
   "source": [
    "# Create a manual seed\n",
    "torch.manual_seed(42)\n",
    "\n",
    "# Create an instance of model\n",
    "model_0 = LinearRegressionModel()\n",
    "\n",
    "# Check out the parameters\n",
    "list(model_0.parameters())"
   ]
  },
  {
   "cell_type": "code",
   "execution_count": 24,
   "metadata": {},
   "outputs": [
    {
     "data": {
      "text/plain": [
       "OrderedDict([('weights', tensor([0.3367], dtype=torch.float64)),\n",
       "             ('bias', tensor([0.1288], dtype=torch.float64))])"
      ]
     },
     "execution_count": 24,
     "metadata": {},
     "output_type": "execute_result"
    }
   ],
   "source": [
    "# List named parameters\n",
    "model_0.state_dict()"
   ]
  },
  {
   "cell_type": "markdown",
   "metadata": {},
   "source": [
    "### Making predictions using `torch.inference_mode()`\n",
    "\n",
    "To check out model's predictive power, let's see how well it predicts `y_test` based on `X_test`.\n",
    "\n",
    "When we pass data into our model, it is going to run it through the forward() method."
   ]
  },
  {
   "cell_type": "code",
   "execution_count": 25,
   "metadata": {},
   "outputs": [
    {
     "data": {
      "text/plain": [
       "tensor([[0.3982],\n",
       "        [0.3998],\n",
       "        [0.4015],\n",
       "        [0.4032],\n",
       "        [0.4049],\n",
       "        [0.4066],\n",
       "        [0.4083],\n",
       "        [0.4099],\n",
       "        [0.4116],\n",
       "        [0.4133],\n",
       "        [0.4150],\n",
       "        [0.4167],\n",
       "        [0.4184],\n",
       "        [0.4200],\n",
       "        [0.4217],\n",
       "        [0.4234],\n",
       "        [0.4251],\n",
       "        [0.4268],\n",
       "        [0.4285],\n",
       "        [0.4301],\n",
       "        [0.4318],\n",
       "        [0.4335],\n",
       "        [0.4352],\n",
       "        [0.4369],\n",
       "        [0.4386],\n",
       "        [0.4402],\n",
       "        [0.4419],\n",
       "        [0.4436],\n",
       "        [0.4453],\n",
       "        [0.4470],\n",
       "        [0.4487],\n",
       "        [0.4503],\n",
       "        [0.4520],\n",
       "        [0.4537],\n",
       "        [0.4554],\n",
       "        [0.4571],\n",
       "        [0.4588],\n",
       "        [0.4604],\n",
       "        [0.4621],\n",
       "        [0.4638]], dtype=torch.float64)"
      ]
     },
     "execution_count": 25,
     "metadata": {},
     "output_type": "execute_result"
    }
   ],
   "source": [
    "# Make predictions with model\n",
    "with torch.inference_mode():\n",
    "    y_preds = model_0(X_test)\n",
    "\n",
    "y_preds"
   ]
  },
  {
   "cell_type": "code",
   "execution_count": null,
   "metadata": {},
   "outputs": [
    {
     "data": {
      "image/png": "[encoded data removed]",
      "text/plain": [
       "<Figure size 1000x700 with 1 Axes>"
      ]
     },
     "metadata": {},
     "output_type": "display_data"
    }
   ],
   "source": [
    "# Plot predictions\n",
    "plot_predictions(predictions=y_preds)"
   ]
  },
  {
   "cell_type": "markdown",
   "metadata": {},
   "source": [
    "## 3. Train model\n",
    "\n",
    "The whole idea of training is for a model to move from some *unknown* paramaters to some *known* parameters, or from a poor\n",
    "representation of data to a better representatiion of data.\n",
    "\n",
    "* **Loss function:** A function to measure how wrong your model's predictions are to the ideal outputs, lower is better.\n",
    "* **Optimizer:** Takes into account the loss of a model and adjusts the model's parameters (weights and bias) to improve the loss function."
   ]
  },
  {
   "cell_type": "code",
   "execution_count": 27,
   "metadata": {},
   "outputs": [
    {
     "data": {
      "text/plain": [
       "OrderedDict([('weights', tensor([0.3367], dtype=torch.float64)),\n",
       "             ('bias', tensor([0.1288], dtype=torch.float64))])"
      ]
     },
     "execution_count": 27,
     "metadata": {},
     "output_type": "execute_result"
    }
   ],
   "source": [
    "model_0.state_dict()"
   ]
  },
  {
   "cell_type": "code",
   "execution_count": 29,
   "metadata": {},
   "outputs": [],
   "source": [
    "# Setup a loss function\n",
    "loss_fn = nn.L1Loss()\n",
    "\n",
    "# Setup an optimizer (stochastic gradient descent)\n",
    "optimizer = torch.optim.SGD(params=model_0.parameters(),\n",
    "                            lr=0.01 #lr - learning rate\n",
    "                            )"
   ]
  },
  {
   "cell_type": "markdown",
   "metadata": {},
   "source": [
    "### Building a training loop and a testing loop in Pytorch\n",
    "\n",
    "Things needed:\n",
    "0. Loop through data\n",
    "1. Forward pass (this involves data moving through our model's `forward()` method) to make predictions on data - also called forward propagation\n",
    "2. Calculate the loss (compared forward pass predictions to ground truth labels).\n",
    "3. Optimizer zero grad\n",
    "4. Loss backward - move backwards through network to calculate the gradients of each of the parameters of our model wrt the loss. (**backpropagation**)\n",
    "5. Optimizer step - use the optimizer to adjust our model's parameters to try and improve the loss. (**gradient descent**)\n"
   ]
  },
  {
   "cell_type": "code",
   "execution_count": 74,
   "metadata": {},
   "outputs": [
    {
     "name": "stdout",
     "output_type": "stream",
     "text": [
      "Loss: 0.0460128669665192\n",
      "OrderedDict({'weights': tensor([0.4727], dtype=torch.float64), 'bias': tensor([0.3873], dtype=torch.float64)})\n",
      "Loss: 0.04551812952260066\n",
      "OrderedDict({'weights': tensor([0.4748], dtype=torch.float64), 'bias': tensor([0.3877], dtype=torch.float64)})\n",
      "Loss: 0.045055751754306705\n",
      "OrderedDict({'weights': tensor([0.4769], dtype=torch.float64), 'bias': tensor([0.3879], dtype=torch.float64)})\n",
      "Loss: 0.04462089163266599\n",
      "OrderedDict({'weights': tensor([0.4790], dtype=torch.float64), 'bias': tensor([0.3881], dtype=torch.float64)})\n",
      "Loss: 0.04420867548236834\n",
      "OrderedDict({'weights': tensor([0.4810], dtype=torch.float64), 'bias': tensor([0.3881], dtype=torch.float64)})\n",
      "Loss: 0.043814200571372676\n",
      "OrderedDict({'weights': tensor([0.4829], dtype=torch.float64), 'bias': tensor([0.3879], dtype=torch.float64)})\n",
      "Loss: 0.04343253248510858\n",
      "OrderedDict({'weights': tensor([0.4848], dtype=torch.float64), 'bias': tensor([0.3877], dtype=torch.float64)})\n",
      "Loss: 0.043065519955274585\n",
      "OrderedDict({'weights': tensor([0.4867], dtype=torch.float64), 'bias': tensor([0.3874], dtype=torch.float64)})\n",
      "Loss: 0.042698507425440596\n",
      "OrderedDict({'weights': tensor([0.4886], dtype=torch.float64), 'bias': tensor([0.3872], dtype=torch.float64)})\n",
      "Loss: 0.04233789901457334\n",
      "OrderedDict({'weights': tensor([0.4905], dtype=torch.float64), 'bias': tensor([0.3868], dtype=torch.float64)})\n",
      "Loss: 0.04198227992182511\n",
      "OrderedDict({'weights': tensor([0.4923], dtype=torch.float64), 'bias': tensor([0.3864], dtype=torch.float64)})\n",
      "Loss: 0.041629652201404396\n",
      "OrderedDict({'weights': tensor([0.4941], dtype=torch.float64), 'bias': tensor([0.3859], dtype=torch.float64)})\n",
      "Loss: 0.04128200080334653\n",
      "OrderedDict({'weights': tensor([0.4959], dtype=torch.float64), 'bias': tensor([0.3854], dtype=torch.float64)})\n",
      "Loss: 0.04093434940528866\n",
      "OrderedDict({'weights': tensor([0.4977], dtype=torch.float64), 'bias': tensor([0.3849], dtype=torch.float64)})\n",
      "Loss: 0.04058669800723079\n",
      "OrderedDict({'weights': tensor([0.4995], dtype=torch.float64), 'bias': tensor([0.3844], dtype=torch.float64)})\n",
      "Loss: 0.04024177838843736\n",
      "OrderedDict({'weights': tensor([0.5012], dtype=torch.float64), 'bias': tensor([0.3838], dtype=torch.float64)})\n",
      "Loss: 0.039898649490867605\n",
      "OrderedDict({'weights': tensor([0.5030], dtype=torch.float64), 'bias': tensor([0.3832], dtype=torch.float64)})\n",
      "Loss: 0.03955552059329785\n",
      "OrderedDict({'weights': tensor([0.5047], dtype=torch.float64), 'bias': tensor([0.3826], dtype=torch.float64)})\n",
      "Loss: 0.0392123916957281\n",
      "OrderedDict({'weights': tensor([0.5065], dtype=torch.float64), 'bias': tensor([0.3819], dtype=torch.float64)})\n",
      "Loss: 0.03886926279815834\n",
      "OrderedDict({'weights': tensor([0.5082], dtype=torch.float64), 'bias': tensor([0.3813], dtype=torch.float64)})\n",
      "Loss: 0.03852613390058858\n",
      "OrderedDict({'weights': tensor([0.5099], dtype=torch.float64), 'bias': tensor([0.3807], dtype=torch.float64)})\n",
      "Loss: 0.03818300500301884\n",
      "OrderedDict({'weights': tensor([0.5117], dtype=torch.float64), 'bias': tensor([0.3801], dtype=torch.float64)})\n",
      "Loss: 0.03784023337826024\n",
      "OrderedDict({'weights': tensor([0.5134], dtype=torch.float64), 'bias': tensor([0.3793], dtype=torch.float64)})\n",
      "Loss: 0.037498198379881956\n",
      "OrderedDict({'weights': tensor([0.5151], dtype=torch.float64), 'bias': tensor([0.3787], dtype=torch.float64)})\n",
      "Loss: 0.03715648437255026\n",
      "OrderedDict({'weights': tensor([0.5168], dtype=torch.float64), 'bias': tensor([0.3779], dtype=torch.float64)})\n",
      "Loss: 0.03681441309240739\n",
      "OrderedDict({'weights': tensor([0.5185], dtype=torch.float64), 'bias': tensor([0.3772], dtype=torch.float64)})\n",
      "Loss: 0.03647234181226454\n",
      "OrderedDict({'weights': tensor([0.5202], dtype=torch.float64), 'bias': tensor([0.3764], dtype=torch.float64)})\n",
      "Loss: 0.036130270532121686\n",
      "OrderedDict({'weights': tensor([0.5219], dtype=torch.float64), 'bias': tensor([0.3757], dtype=torch.float64)})\n",
      "Loss: 0.03578835858004366\n",
      "OrderedDict({'weights': tensor([0.5236], dtype=torch.float64), 'bias': tensor([0.3751], dtype=torch.float64)})\n",
      "Loss: 0.0354465215264117\n",
      "OrderedDict({'weights': tensor([0.5253], dtype=torch.float64), 'bias': tensor([0.3743], dtype=torch.float64)})\n",
      "Loss: 0.035104450246268834\n",
      "OrderedDict({'weights': tensor([0.5270], dtype=torch.float64), 'bias': tensor([0.3736], dtype=torch.float64)})\n",
      "Loss: 0.03476237896612598\n",
      "OrderedDict({'weights': tensor([0.5287], dtype=torch.float64), 'bias': tensor([0.3728], dtype=torch.float64)})\n",
      "Loss: 0.03442030768598313\n",
      "OrderedDict({'weights': tensor([0.5304], dtype=torch.float64), 'bias': tensor([0.3721], dtype=torch.float64)})\n",
      "Loss: 0.03407851878020537\n",
      "OrderedDict({'weights': tensor([0.5321], dtype=torch.float64), 'bias': tensor([0.3714], dtype=torch.float64)})\n",
      "Loss: 0.03373655868027313\n",
      "OrderedDict({'weights': tensor([0.5338], dtype=torch.float64), 'bias': tensor([0.3707], dtype=torch.float64)})\n",
      "Loss: 0.03339448740013028\n",
      "OrderedDict({'weights': tensor([0.5355], dtype=torch.float64), 'bias': tensor([0.3699], dtype=torch.float64)})\n",
      "Loss: 0.033052416119987424\n",
      "OrderedDict({'weights': tensor([0.5372], dtype=torch.float64), 'bias': tensor([0.3692], dtype=torch.float64)})\n",
      "Loss: 0.03271035670593421\n",
      "OrderedDict({'weights': tensor([0.5390], dtype=torch.float64), 'bias': tensor([0.3686], dtype=torch.float64)})\n",
      "Loss: 0.032368667114277425\n",
      "OrderedDict({'weights': tensor([0.5406], dtype=torch.float64), 'bias': tensor([0.3678], dtype=torch.float64)})\n",
      "Loss: 0.03202659583413457\n",
      "OrderedDict({'weights': tensor([0.5423], dtype=torch.float64), 'bias': tensor([0.3671], dtype=torch.float64)})\n",
      "Loss: 0.03168452455399172\n",
      "OrderedDict({'weights': tensor([0.5440], dtype=torch.float64), 'bias': tensor([0.3663], dtype=torch.float64)})\n",
      "Loss: 0.031342453273848866\n",
      "OrderedDict({'weights': tensor([0.5457], dtype=torch.float64), 'bias': tensor([0.3656], dtype=torch.float64)})\n",
      "Loss: 0.03100051690609592\n",
      "OrderedDict({'weights': tensor([0.5475], dtype=torch.float64), 'bias': tensor([0.3649], dtype=torch.float64)})\n",
      "Loss: 0.030658704268138874\n",
      "OrderedDict({'weights': tensor([0.5492], dtype=torch.float64), 'bias': tensor([0.3642], dtype=torch.float64)})\n",
      "Loss: 0.03031663298799602\n",
      "OrderedDict({'weights': tensor([0.5508], dtype=torch.float64), 'bias': tensor([0.3634], dtype=torch.float64)})\n",
      "Loss: 0.02997456170785317\n",
      "OrderedDict({'weights': tensor([0.5525], dtype=torch.float64), 'bias': tensor([0.3627], dtype=torch.float64)})\n",
      "Loss: 0.029632490427710313\n",
      "OrderedDict({'weights': tensor([0.5542], dtype=torch.float64), 'bias': tensor([0.3619], dtype=torch.float64)})\n",
      "Loss: 0.029290677106257622\n",
      "OrderedDict({'weights': tensor([0.5560], dtype=torch.float64), 'bias': tensor([0.3613], dtype=torch.float64)})\n",
      "Loss: 0.028948741422000324\n",
      "OrderedDict({'weights': tensor([0.5577], dtype=torch.float64), 'bias': tensor([0.3606], dtype=torch.float64)})\n",
      "Loss: 0.02860667014185746\n",
      "OrderedDict({'weights': tensor([0.5593], dtype=torch.float64), 'bias': tensor([0.3598], dtype=torch.float64)})\n",
      "Loss: 0.02826459886171461\n",
      "OrderedDict({'weights': tensor([0.5610], dtype=torch.float64), 'bias': tensor([0.3591], dtype=torch.float64)})\n",
      "Loss: 0.027922527581571755\n",
      "OrderedDict({'weights': tensor([0.5627], dtype=torch.float64), 'bias': tensor([0.3583], dtype=torch.float64)})\n",
      "Loss: 0.02758083730641933\n",
      "OrderedDict({'weights': tensor([0.5645], dtype=torch.float64), 'bias': tensor([0.3577], dtype=torch.float64)})\n",
      "Loss: 0.02723877857586176\n",
      "OrderedDict({'weights': tensor([0.5662], dtype=torch.float64), 'bias': tensor([0.3569], dtype=torch.float64)})\n",
      "Loss: 0.026896707295718903\n",
      "OrderedDict({'weights': tensor([0.5679], dtype=torch.float64), 'bias': tensor([0.3562], dtype=torch.float64)})\n",
      "Loss: 0.02655463601557605\n",
      "OrderedDict({'weights': tensor([0.5695], dtype=torch.float64), 'bias': tensor([0.3554], dtype=torch.float64)})\n",
      "Loss: 0.02621267523214817\n",
      "OrderedDict({'weights': tensor([0.5713], dtype=torch.float64), 'bias': tensor([0.3548], dtype=torch.float64)})\n",
      "Loss: 0.02587088700986606\n",
      "OrderedDict({'weights': tensor([0.5730], dtype=torch.float64), 'bias': tensor([0.3541], dtype=torch.float64)})\n",
      "Loss: 0.025528815729723202\n",
      "OrderedDict({'weights': tensor([0.5747], dtype=torch.float64), 'bias': tensor([0.3533], dtype=torch.float64)})\n",
      "Loss: 0.02518674444958035\n",
      "OrderedDict({'weights': tensor([0.5764], dtype=torch.float64), 'bias': tensor([0.3526], dtype=torch.float64)})\n",
      "Loss: 0.024844673169437493\n",
      "OrderedDict({'weights': tensor([0.5781], dtype=torch.float64), 'bias': tensor([0.3518], dtype=torch.float64)})\n",
      "Loss: 0.024502835432309876\n",
      "OrderedDict({'weights': tensor([0.5798], dtype=torch.float64), 'bias': tensor([0.3512], dtype=torch.float64)})\n",
      "Loss: 0.024160924163727497\n",
      "OrderedDict({'weights': tensor([0.5815], dtype=torch.float64), 'bias': tensor([0.3504], dtype=torch.float64)})\n",
      "Loss: 0.023818852883584644\n",
      "OrderedDict({'weights': tensor([0.5832], dtype=torch.float64), 'bias': tensor([0.3497], dtype=torch.float64)})\n",
      "Loss: 0.02347678160344179\n",
      "OrderedDict({'weights': tensor([0.5849], dtype=torch.float64), 'bias': tensor([0.3489], dtype=torch.float64)})\n",
      "Loss: 0.023134710323298936\n",
      "OrderedDict({'weights': tensor([0.5866], dtype=torch.float64), 'bias': tensor([0.3482], dtype=torch.float64)})\n",
      "Loss: 0.02279299563247158\n",
      "OrderedDict({'weights': tensor([0.5883], dtype=torch.float64), 'bias': tensor([0.3476], dtype=torch.float64)})\n",
      "Loss: 0.02245096131758894\n",
      "OrderedDict({'weights': tensor([0.5900], dtype=torch.float64), 'bias': tensor([0.3468], dtype=torch.float64)})\n",
      "Loss: 0.022108890037446087\n",
      "OrderedDict({'weights': tensor([0.5917], dtype=torch.float64), 'bias': tensor([0.3461], dtype=torch.float64)})\n",
      "Loss: 0.021766818757303234\n",
      "OrderedDict({'weights': tensor([0.5934], dtype=torch.float64), 'bias': tensor([0.3453], dtype=torch.float64)})\n",
      "Loss: 0.021424833558200424\n",
      "OrderedDict({'weights': tensor([0.5951], dtype=torch.float64), 'bias': tensor([0.3447], dtype=torch.float64)})\n",
      "Loss: 0.02108306975159324\n",
      "OrderedDict({'weights': tensor([0.5968], dtype=torch.float64), 'bias': tensor([0.3439], dtype=torch.float64)})\n",
      "Loss: 0.020740998471450386\n",
      "OrderedDict({'weights': tensor([0.5985], dtype=torch.float64), 'bias': tensor([0.3432], dtype=torch.float64)})\n",
      "Loss: 0.02039892719130753\n",
      "OrderedDict({'weights': tensor([0.6002], dtype=torch.float64), 'bias': tensor([0.3424], dtype=torch.float64)})\n",
      "Loss: 0.020056855911164677\n",
      "OrderedDict({'weights': tensor([0.6019], dtype=torch.float64), 'bias': tensor([0.3417], dtype=torch.float64)})\n",
      "Loss: 0.01971499375836213\n",
      "OrderedDict({'weights': tensor([0.6036], dtype=torch.float64), 'bias': tensor([0.3411], dtype=torch.float64)})\n",
      "Loss: 0.019373106905454685\n",
      "OrderedDict({'weights': tensor([0.6053], dtype=torch.float64), 'bias': tensor([0.3403], dtype=torch.float64)})\n",
      "Loss: 0.019031035625311825\n",
      "OrderedDict({'weights': tensor([0.6070], dtype=torch.float64), 'bias': tensor([0.3396], dtype=torch.float64)})\n",
      "Loss: 0.018688964345168972\n",
      "OrderedDict({'weights': tensor([0.6087], dtype=torch.float64), 'bias': tensor([0.3388], dtype=torch.float64)})\n",
      "Loss: 0.018346893065026116\n",
      "OrderedDict({'weights': tensor([0.6104], dtype=torch.float64), 'bias': tensor([0.3381], dtype=torch.float64)})\n",
      "Loss: 0.01800515395852384\n",
      "OrderedDict({'weights': tensor([0.6121], dtype=torch.float64), 'bias': tensor([0.3374], dtype=torch.float64)})\n",
      "Loss: 0.01766314405931612\n",
      "OrderedDict({'weights': tensor([0.6138], dtype=torch.float64), 'bias': tensor([0.3367], dtype=torch.float64)})\n",
      "Loss: 0.01732107277917327\n",
      "OrderedDict({'weights': tensor([0.6155], dtype=torch.float64), 'bias': tensor([0.3359], dtype=torch.float64)})\n",
      "Loss: 0.016979001499030415\n",
      "OrderedDict({'weights': tensor([0.6172], dtype=torch.float64), 'bias': tensor([0.3352], dtype=torch.float64)})\n",
      "Loss: 0.01663699188425268\n",
      "OrderedDict({'weights': tensor([0.6189], dtype=torch.float64), 'bias': tensor([0.3346], dtype=torch.float64)})\n",
      "Loss: 0.016295252493320422\n",
      "OrderedDict({'weights': tensor([0.6206], dtype=torch.float64), 'bias': tensor([0.3338], dtype=torch.float64)})\n",
      "Loss: 0.015953181213177563\n",
      "OrderedDict({'weights': tensor([0.6223], dtype=torch.float64), 'bias': tensor([0.3331], dtype=torch.float64)})\n",
      "Loss: 0.015611109933034713\n",
      "OrderedDict({'weights': tensor([0.6240], dtype=torch.float64), 'bias': tensor([0.3323], dtype=torch.float64)})\n",
      "Loss: 0.015269038652891859\n",
      "OrderedDict({'weights': tensor([0.6257], dtype=torch.float64), 'bias': tensor([0.3316], dtype=torch.float64)})\n",
      "Loss: 0.014927152084414386\n",
      "OrderedDict({'weights': tensor([0.6275], dtype=torch.float64), 'bias': tensor([0.3309], dtype=torch.float64)})\n",
      "Loss: 0.01458528964718186\n",
      "OrderedDict({'weights': tensor([0.6291], dtype=torch.float64), 'bias': tensor([0.3302], dtype=torch.float64)})\n",
      "Loss: 0.014243218367039009\n",
      "OrderedDict({'weights': tensor([0.6308], dtype=torch.float64), 'bias': tensor([0.3294], dtype=torch.float64)})\n",
      "Loss: 0.013901147086896154\n",
      "OrderedDict({'weights': tensor([0.6325], dtype=torch.float64), 'bias': tensor([0.3287], dtype=torch.float64)})\n",
      "Loss: 0.013559075806753296\n",
      "OrderedDict({'weights': tensor([0.6342], dtype=torch.float64), 'bias': tensor([0.3279], dtype=torch.float64)})\n",
      "Loss: 0.013217312284576089\n",
      "OrderedDict({'weights': tensor([0.6360], dtype=torch.float64), 'bias': tensor([0.3273], dtype=torch.float64)})\n",
      "Loss: 0.012875326801043304\n",
      "OrderedDict({'weights': tensor([0.6376], dtype=torch.float64), 'bias': tensor([0.3266], dtype=torch.float64)})\n",
      "Loss: 0.012533255520900451\n",
      "OrderedDict({'weights': tensor([0.6393], dtype=torch.float64), 'bias': tensor([0.3258], dtype=torch.float64)})\n",
      "Loss: 0.012191184240757597\n",
      "OrderedDict({'weights': tensor([0.6410], dtype=torch.float64), 'bias': tensor([0.3251], dtype=torch.float64)})\n",
      "Loss: 0.011849150210304932\n",
      "OrderedDict({'weights': tensor([0.6428], dtype=torch.float64), 'bias': tensor([0.3244], dtype=torch.float64)})\n",
      "Loss: 0.011507435235047606\n",
      "OrderedDict({'weights': tensor([0.6445], dtype=torch.float64), 'bias': tensor([0.3237], dtype=torch.float64)})\n"
     ]
    }
   ],
   "source": [
    "# An epoch is one loop through the data (a hyperparameter because we set it ourselves)\n",
    "epochs = 100\n",
    "\n",
    "### Training\n",
    "# 0. Loop through the data\n",
    "for epoch in range(epochs):\n",
    "    #Set the model to training mode\n",
    "    model_0.train() #sets all params that require gradients to require gradients\n",
    "    \n",
    "    # 1. Forward pass\n",
    "    y_pred = model_0(X_train)\n",
    "    \n",
    "    # 2. Calculate loss\n",
    "    loss = loss_fn(y_pred, y_train)\n",
    "    print(f\"Loss: {loss}\")\n",
    "    \n",
    "    # 3. Optimizer\n",
    "    optimizer.zero_grad()\n",
    "    \n",
    "    # 4. Perform backpropagation on the loss wrt to model params\n",
    "    loss.backward()\n",
    "    \n",
    "    # 5. Step the optimizer (gradient descent)\n",
    "    optimizer.step()\n",
    "     \n",
    "    ### Testing\n",
    "    model_0.eval() #turns off gradient tracking\n",
    "\n",
    "    print(model_0.state_dict())\n",
    "    "
   ]
  },
  {
   "cell_type": "code",
   "execution_count": 76,
   "metadata": {},
   "outputs": [
    {
     "data": {
      "image/png": "[encoded data removed]",
      "text/plain": [
       "<Figure size 1000x700 with 1 Axes>"
      ]
     },
     "metadata": {},
     "output_type": "display_data"
    }
   ],
   "source": [
    "with torch.inference_mode():\n",
    "    y_preds_new = model_0(X_test)\n",
    "    \n",
    "plot_predictions(predictions=y_preds_new)"
   ]
  },
  {
   "cell_type": "code",
   "execution_count": null,
   "metadata": {},
   "outputs": [],
   "source": []
  }
 ],
 "metadata": {
  "kernelspec": {
   "display_name": ".venv",
   "language": "python",
   "name": "python3"
  },
  "language_info": {
   "codemirror_mode": {
    "name": "ipython",
    "version": 3
   },
   "file_extension": ".py",
   "mimetype": "text/x-python",
   "name": "python",
   "nbconvert_exporter": "python",
   "pygments_lexer": "ipython3",
   "version": "3.12.7"
  }
 },
 "nbformat": 4,
 "nbformat_minor": 2
}
